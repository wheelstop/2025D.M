{
  "nbformat": 4,
  "nbformat_minor": 0,
  "metadata": {
    "colab": {
      "provenance": [],
      "authorship_tag": "ABX9TyMu/iJsBZJk6KgyxG6Oj7fj",
      "include_colab_link": true
    },
    "kernelspec": {
      "name": "python3",
      "display_name": "Python 3"
    },
    "language_info": {
      "name": "python"
    }
  },
  "cells": [
    {
      "cell_type": "markdown",
      "metadata": {
        "id": "view-in-github",
        "colab_type": "text"
      },
      "source": [
        "<a href=\"https://colab.research.google.com/github/wheelstop/2025D.M/blob/main/3_%EC%A7%91%ED%95%A9.ipynb\" target=\"_parent\"><img src=\"https://colab.research.google.com/assets/colab-badge.svg\" alt=\"Open In Colab\"/></a>"
      ]
    },
    {
      "cell_type": "code",
      "execution_count": 4,
      "metadata": {
        "id": "sHeosMAV0DdB",
        "colab": {
          "base_uri": "https://localhost:8080/"
        },
        "outputId": "f16b2c9e-4fc3-49e2-af75-b7a5db01162d"
      },
      "outputs": [
        {
          "output_type": "stream",
          "name": "stdout",
          "text": [
            "은행 A 고객:  {'이영희', '김철수', '최지우', '박민수'}\n",
            "은행 B 고객:  {'이영희', '한지민', '최지우', '정우성'}\n",
            "합병 후 전체 고객:  {'이영희', '최지우', '박민수', '한지민', '정우성', '김철수'}\n",
            "공통 고객:  {'이영희', '최지우'}\n",
            "A 은행에만 있는 고객:  {'김철수', '박민수'}\n",
            "B 은행에만 있는 고객:  {'한지민', '정우성'}\n"
          ]
        }
      ],
      "source": [
        "\n",
        "# 두 은행의 고객 집합 선언\n",
        "bankA_customers = set([\"김철수\", \"이영희\", \"박민수\",\"최지우\"])\n",
        "bankB_customers = set([\"이영희\", \"최지우\", \"정우성\", \"한지민\"])\n",
        "\n",
        "print(\"은행 A 고객: \", bankA_customers)\n",
        "print(\"은행 B 고객: \", bankB_customers)\n",
        "\n",
        "#두 은행의 전체 고객 집합 (합집합)\n",
        "total_customers =bankA_customers | bankB_customers\n",
        "print(\"합병 후 전체 고객: \", total_customers)\n",
        "\n",
        "#두 은행 모두에 있는 공통 고객 (교집합)\n",
        "common_customers = bankA_customers & bankB_customers\n",
        "print(\"공통 고객: \" , common_customers)\n",
        "\n",
        "#A 은행에만 있는 고객 (차집합)\n",
        "only_A_customers= bankA_customers - bankB_customers\n",
        "print(\"A 은행에만 있는 고객: \", only_A_customers)\n",
        "\n",
        "#B 은행에만 있는 고객 (차집합)\n",
        "only_B_customers = bankB_customers - bankA_customers\n",
        "print(\"B 은행에만 있는 고객: \", only_B_customers)"
      ]
    }
  ]
}